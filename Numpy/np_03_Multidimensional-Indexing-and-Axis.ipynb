{
 "cells": [
  {
   "cell_type": "markdown",
   "id": "b03e12ed-06b9-4543-b274-dbee0c0baf77",
   "metadata": {},
   "source": [
    "# np_03 : Multidimensional-Indexing-and-Axis"
   ]
  },
  {
   "cell_type": "code",
   "execution_count": 1,
   "id": "4c3b52db-7730-46b3-b7d4-f43e055878a9",
   "metadata": {},
   "outputs": [],
   "source": [
    "import numpy as np\n",
    "arr = np.array([[1, 2, 3],\n",
    "[4, 5, 6],\n",
    "[7, 8, 9]])\n"
   ]
  },
  {
   "cell_type": "code",
   "execution_count": 2,
   "id": "5cbf0981-e7e6-4d1d-8c68-831e365d26d2",
   "metadata": {},
   "outputs": [
    {
     "data": {
      "text/plain": [
       "array([[1, 2, 3],\n",
       "       [4, 5, 6],\n",
       "       [7, 8, 9]])"
      ]
     },
     "execution_count": 2,
     "metadata": {},
     "output_type": "execute_result"
    }
   ],
   "source": [
    "arr"
   ]
  },
  {
   "cell_type": "code",
   "execution_count": 3,
   "id": "b672375b-8197-4c39-9c10-09a99ce9b2ba",
   "metadata": {},
   "outputs": [
    {
     "data": {
      "text/plain": [
       "array([ 6, 15, 24])"
      ]
     },
     "execution_count": 3,
     "metadata": {},
     "output_type": "execute_result"
    }
   ],
   "source": [
    "np.sum(arr, axis=1)"
   ]
  },
  {
   "cell_type": "code",
   "execution_count": 4,
   "id": "1b4af322-2d69-4b92-ba8a-9f3f48e54660",
   "metadata": {},
   "outputs": [
    {
     "data": {
      "text/plain": [
       "3"
      ]
     },
     "execution_count": 4,
     "metadata": {},
     "output_type": "execute_result"
    }
   ],
   "source": [
    "arr[0][2]"
   ]
  },
  {
   "cell_type": "code",
   "execution_count": 5,
   "id": "6f15abb3-10c2-4a25-9a00-5178cc80c58b",
   "metadata": {},
   "outputs": [
    {
     "data": {
      "text/plain": [
       "array([[2, 3],\n",
       "       [5, 6]])"
      ]
     },
     "execution_count": 5,
     "metadata": {},
     "output_type": "execute_result"
    }
   ],
   "source": [
    "arr[0:2, 1:3]\n",
    "# 0:2 for rows 0 & 1\n",
    "# 1:3 for columns 1 &2"
   ]
  },
  {
   "cell_type": "code",
   "execution_count": 6,
   "id": "a462358e-2c18-4b29-aff7-0777014ac174",
   "metadata": {},
   "outputs": [],
   "source": [
    "arr3D = np.array([\n",
    "    [[1, 2, 3], \n",
    "     [4, 5, 6]],\n",
    "    \n",
    "[[7, 8, 9],\n",
    " [10, 11, 12]]\n",
    "\n",
    "])"
   ]
  },
  {
   "cell_type": "code",
   "execution_count": 7,
   "id": "b6facb20-be44-4c4a-8478-04c8e5a51731",
   "metadata": {},
   "outputs": [
    {
     "name": "stdout",
     "output_type": "stream",
     "text": [
      "[[1 2 3]\n",
      " [7 8 9]]\n"
     ]
    }
   ],
   "source": [
    "print(arr3D[:, 0, :])"
   ]
  },
  {
   "cell_type": "code",
   "execution_count": 8,
   "id": "11bdb271-9666-429d-9676-8975a99fb466",
   "metadata": {},
   "outputs": [],
   "source": [
    "arr3D[:, 0, :] = 0"
   ]
  },
  {
   "cell_type": "code",
   "execution_count": 9,
   "id": "887fd663-9689-44ca-bac9-a1cd35733489",
   "metadata": {},
   "outputs": [
    {
     "data": {
      "text/plain": [
       "array([[[ 0,  0,  0],\n",
       "        [ 4,  5,  6]],\n",
       "\n",
       "       [[ 0,  0,  0],\n",
       "        [10, 11, 12]]])"
      ]
     },
     "execution_count": 9,
     "metadata": {},
     "output_type": "execute_result"
    }
   ],
   "source": [
    "arr3D"
   ]
  },
  {
   "cell_type": "markdown",
   "id": "49819879-2cc0-4409-87ac-84c4af0ea88e",
   "metadata": {},
   "source": [
    "#### 0- axis : traversing elements of a row alog columns ( ↕ : vertical traversal)\n",
    "\n",
    "#### 1- axis : traversing elements of columns along rows (↔ : horizontal traversal) \n",
    "\n",
    "#### 3-D array is just like notebook with multiple pages where each page is an 2-D array and whole notebook combined is 3-D array"
   ]
  }
 ],
 "metadata": {
  "kernelspec": {
   "display_name": "Python [conda env:base] *",
   "language": "python",
   "name": "conda-base-py"
  },
  "language_info": {
   "codemirror_mode": {
    "name": "ipython",
    "version": 3
   },
   "file_extension": ".py",
   "mimetype": "text/x-python",
   "name": "python",
   "nbconvert_exporter": "python",
   "pygments_lexer": "ipython3",
   "version": "3.12.3"
  }
 },
 "nbformat": 4,
 "nbformat_minor": 5
}
