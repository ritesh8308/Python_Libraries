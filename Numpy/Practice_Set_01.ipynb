{
 "cells": [
  {
   "cell_type": "markdown",
   "id": "fdadfc15-d628-4111-8820-77732fb9884c",
   "metadata": {},
   "source": [
    "# Exercises for Practice\n",
    "- Create a 3×3 array filled with random numbers and print its shape.\n",
    "- Convert an array of floats [1.1, 2.2, 3.3] into integers.\n",
    "- Use fancy indexing to extract even numbers from [1, 2, 3, 4, 5, 6].\n",
    "- Reshape a 1D array of size 9 into a 3×3 matrix.\n",
    "- Use boolean masking to filter numbers greater than 50 in an array."
   ]
  },
  {
   "cell_type": "markdown",
   "id": "f9af0b4a-9f44-413b-a162-d3bbf81a3b38",
   "metadata": {},
   "source": [
    "### 1. Create a 3×3 array filled with random numbers and print its shape"
   ]
  },
  {
   "cell_type": "code",
   "execution_count": 4,
   "id": "3242a9e8-5376-4c4a-87b3-b3a66624f4bf",
   "metadata": {},
   "outputs": [],
   "source": [
    "import numpy as np"
   ]
  },
  {
   "cell_type": "code",
   "execution_count": 5,
   "id": "81d2bf4c-481a-4318-8cbc-6f59f6df20c2",
   "metadata": {},
   "outputs": [
    {
     "name": "stdout",
     "output_type": "stream",
     "text": [
      "[[0.10832159 0.95319388 0.23753315]\n",
      " [0.09344066 0.95981471 0.66377673]\n",
      " [0.09072012 0.21052298 0.52958279]]\n"
     ]
    }
   ],
   "source": [
    "arr0 = np.random.rand(3,3)\n",
    "print(arr0)"
   ]
  },
  {
   "cell_type": "markdown",
   "id": "8617df3d-5310-455d-b126-9e9e311d4c43",
   "metadata": {},
   "source": [
    "### 2. Convert an array of floats [1.1, 2.2, 3.3] into integers."
   ]
  },
  {
   "cell_type": "code",
   "execution_count": 7,
   "id": "d855e7e8-faca-4aff-b1d6-d03f4ed3fd41",
   "metadata": {},
   "outputs": [
    {
     "name": "stdout",
     "output_type": "stream",
     "text": [
      "[[0 0 0]\n",
      " [0 0 0]\n",
      " [0 0 0]]\n"
     ]
    }
   ],
   "source": [
    "arr1 = arr0.astype(int)\n",
    "print(arr1)"
   ]
  },
  {
   "cell_type": "markdown",
   "id": "4e7548b6-b0e6-4d52-9a43-2dc9c294382d",
   "metadata": {},
   "source": [
    "### 3. Use fancy indexing to extract even numbers from [1, 2, 3, 4, 5, 6]"
   ]
  },
  {
   "cell_type": "code",
   "execution_count": 9,
   "id": "1c26b318-dfd3-4b9a-9ac6-4a1d2238f7c8",
   "metadata": {},
   "outputs": [
    {
     "name": "stdout",
     "output_type": "stream",
     "text": [
      "EVen_n: in 1D array [2 4 6]\n",
      "Even_nums in 3X3 multi_D array: [2 4 6 8]\n"
     ]
    }
   ],
   "source": [
    "nums = np.array([[1, 2, 3] ,[4, 5, 6],[7, 8, 9]])\n",
    "#even_nums = nums[nums % 2 == 0]\n",
    "n = np.array([1, 2, 3, 4, 5, 6])\n",
    "even_n = n[[1, 3, 5]]\n",
    "print(\"EVen_n: in 1D array\", even_n)\n",
    "even_nums = nums[[0, 1, 1, 2], [1, 0, 2, 1]]\n",
    "print(\"Even_nums in 3X3 multi_D array:\", even_nums)"
   ]
  },
  {
   "cell_type": "markdown",
   "id": "404d0143-0f87-42b9-a003-118878ef1f81",
   "metadata": {},
   "source": [
    "### 4. Reshape a 1D array of size 9 into a 3×3 matrix."
   ]
  },
  {
   "cell_type": "code",
   "execution_count": 11,
   "id": "3ea991ff-5def-4e8c-a263-1885b028f633",
   "metadata": {},
   "outputs": [
    {
     "name": "stdout",
     "output_type": "stream",
     "text": [
      "[[1 2 3]\n",
      " [4 5 6]\n",
      " [7 8 9]]\n"
     ]
    }
   ],
   "source": [
    "print(nums)"
   ]
  },
  {
   "cell_type": "code",
   "execution_count": 12,
   "id": "c38fbe3c-6d9a-46ae-8faf-9f5ed8ef6899",
   "metadata": {},
   "outputs": [
    {
     "name": "stdout",
     "output_type": "stream",
     "text": [
      "[1 2 3 4 5 6 7 8 9]\n"
     ]
    }
   ],
   "source": [
    "flattened_arr = nums.flatten()\n",
    "print(flattened_arr)"
   ]
  },
  {
   "cell_type": "code",
   "execution_count": 13,
   "id": "3907c7d6-bca6-4104-aa85-046d1ccdad62",
   "metadata": {},
   "outputs": [
    {
     "name": "stdout",
     "output_type": "stream",
     "text": [
      "[[1 2 3]\n",
      " [4 5 6]\n",
      " [7 8 9]]\n"
     ]
    }
   ],
   "source": [
    "print(nums)"
   ]
  },
  {
   "cell_type": "code",
   "execution_count": 14,
   "id": "b27d933a-6560-48f7-9735-739f583567cd",
   "metadata": {},
   "outputs": [
    {
     "name": "stdout",
     "output_type": "stream",
     "text": [
      "[1 2 3 4 5 6 7 8 9]\n"
     ]
    }
   ],
   "source": [
    "nums = nums.ravel()  # returns a view of nums instead of the copy\n",
    "print(nums)"
   ]
  },
  {
   "cell_type": "code",
   "execution_count": 15,
   "id": "6e537d34-1a5f-4c34-a1c2-d677b234e819",
   "metadata": {},
   "outputs": [
    {
     "name": "stdout",
     "output_type": "stream",
     "text": [
      "flattened_nums to 3X3 nums_array:\n",
      " [[1 2 3]\n",
      " [4 5 6]\n",
      " [7 8 9]]\n"
     ]
    }
   ],
   "source": [
    "print(\"flattened_nums to 3X3 nums_array:\\n\", np.reshape(nums,(3,3)))"
   ]
  },
  {
   "cell_type": "markdown",
   "id": "3b5584b9-8863-42fb-8998-815223d3fc1c",
   "metadata": {},
   "source": [
    "### 5. Use boolean masking to filter numbers greater than 50 in an array."
   ]
  },
  {
   "cell_type": "code",
   "execution_count": 17,
   "id": "b6b63e52-85c8-4ea2-99a2-48c520980f28",
   "metadata": {},
   "outputs": [
    {
     "name": "stdout",
     "output_type": "stream",
     "text": [
      "[65 84 76 99]\n"
     ]
    }
   ],
   "source": [
    "arr_50 = np.array([[12,65,84], [76,22,2], [7,43,99]])\n",
    "print(arr_50[arr_50 > 50])"
   ]
  }
 ],
 "metadata": {
  "kernelspec": {
   "display_name": "Python [conda env:base] *",
   "language": "python",
   "name": "conda-base-py"
  },
  "language_info": {
   "codemirror_mode": {
    "name": "ipython",
    "version": 3
   },
   "file_extension": ".py",
   "mimetype": "text/x-python",
   "name": "python",
   "nbconvert_exporter": "python",
   "pygments_lexer": "ipython3",
   "version": "3.12.3"
  }
 },
 "nbformat": 4,
 "nbformat_minor": 5
}
