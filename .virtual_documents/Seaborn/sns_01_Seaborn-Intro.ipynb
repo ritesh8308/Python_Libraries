


import seaborn as sns
import numpy as np
import matplotlib.pyplot as plt


sns.set_theme(style="dark")


x = np.array([1, 3, 4, 5, 6, 77, 7, 8, 8, 4,34, 3,43 ,43,43, 78, 89, 90 ])


y = np.sin(x)


sns.lineplot(x=x, y=y)
plt.show()
