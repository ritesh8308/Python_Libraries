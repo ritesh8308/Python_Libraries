


import seaborn as sns
print(sns.get_dataset_names())


tips = sns.load_dataset("tips")


tips.head()


import seaborn as sns


import matplotlib.pyplot as plt
sns.boxplot(x="total_bill", y = "tip", data=tips)
plt.title("Bar Plot")
plt.xlabel("x")
plt.ylabel("y")


flights = sns.load_dataset("flights")


flights


pv = flights.pivot(index="month", columns="year", values="passengers")


pv


sns.heatmap(pv, annot=True, fmt="d", cmap="YlGnBu")
plt.show()


import pandas as pd

df = pd.DataFrame({
    "age": [22, 25, 47, 52, 46, 56, 55, 60, 34, 43],
    "salary": [25000, 27000, 52000, 60000, 58000, 62000, 61000, 65000, 38000, 45000],
    "gender": ["M", "F", "M", "F", "F", "M", "M", "F", "F", "M"]
})

sns.scatterplot(x="age", y="salary", hue="gender", data=df)
plt.title('Salary vs Age Scatter Plot')
plt.show()



