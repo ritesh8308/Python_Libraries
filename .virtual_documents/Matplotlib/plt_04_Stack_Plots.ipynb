


import matplotlib.pyplot as plt


activities = ['Studying', 'Playing', 'Watching TV', 'Sleeping']


time_spent = [3, 2, 2, 5]
colors = ['blue', 'red', 'yellow', 'pink']
plt.figure(figsize=(6, 6))
plt.pie(time_spent, labels=activities, colors=colors, startangle=90, autopct="%1.1f%%")
plt.title("School going student")
plt.axis('equal')


import matplotlib.pyplot as plt

days = [1, 2, 3, 4, 5, 6, 7]  # Days of the week
studying = [3, 4, 3, 5, 4, 3, 4]
playing = [2, 2, 1, 1, 2, 3, 2]
watching_tv = [2, 1, 2, 2, 1, 1, 1]
sleeping = [5, 5, 6, 5, 6, 5, 5]

labels = ['Studying', 'Playing', 'TV', 'Sleeping']
colors = ['blue', 'red', 'yellow', 'pink']
plt.figure(figsize=(6, 6))
plt.stackplot(days, studying, playing, watching_tv, sleeping, labels=labels, colors=colors, alpha=0.4)
plt.legend(loc="upper left")
plt.title("Students Time Distribution")
plt.xlabel("Days")
plt.ylabel("Hours")
plt.grid(True)




